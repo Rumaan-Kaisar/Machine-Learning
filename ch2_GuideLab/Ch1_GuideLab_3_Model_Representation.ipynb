{
 "cells": [
  {
   "cell_type": "markdown",
   "id": "6e58b638",
   "metadata": {},
   "source": [
    "# GuideLab: Model Representation\n",
    "#### Objective  \n",
    "* Learn to implement the model $f_{w,b}$ for linear regression with _**one variable**_"
   ]
  },
  {
   "cell_type": "markdown",
   "id": "4a34e1ad",
   "metadata": {},
   "source": [
    "\n",
    "### Notation Summary\n",
    "\n",
    "Below is a summary of common notation used in linear regression and their Python equivalents (where applicable):\n",
    "\n",
    "<br>\n",
    "\n",
    "**General Notation**\n",
    "\n",
    "| Symbol | Description       |\n",
    "| ------ | ----------------- |\n",
    "| a      | Scalar (non-bold) |\n",
    "| **a**  | Vector (bold)     |\n",
    "\n",
    "<br>\n",
    "\n",
    "**Regression-Specific Notation**\n",
    "\n",
    "| Symbol             | Description                                                         | Python Equivalent |\n",
    "| ------------------ | ------------------------------------------------------------------- | ----------------- |\n",
    "| **x**              | Feature values of training examples (e.g., house size in 1000 sqft) | `x_train`         |\n",
    "| **y**              | Target values of training examples (e.g., house price in \\$1000s)   | `y_train`         |\n",
    "| $x^{(i)}, y^{(i)}$ | The $i^{th}$ training example (feature and target)                  | `x_i`, `y_i`      |\n",
    "| m                  | Number of training examples                                         | `m`               |\n",
    "| w                  | Model parameter: weight                                             | `w`               |\n",
    "| b                  | Model parameter: bias                                               | `b`               |\n",
    "| $f_{w,b}(x^{(i)})$ | Model prediction: $f_{w,b}(x^{(i)}) = wx^{(i)} + b$  <br>  i.e.The result of the model evaluation at $x^{(i)}$ parameterized by $w,b$              | `f_wb`            |\n",
    "\n",
    "---\n"
   ]
  },
  {
   "cell_type": "markdown",
   "id": "0eb3b967",
   "metadata": {},
   "source": [
    "## Tools we'll use\n",
    "- NumPy, a library for scientific computing\n",
    "- Matplotlib, a library for plotting data"
   ]
  },
  {
   "cell_type": "code",
   "execution_count": 1,
   "id": "cd848296",
   "metadata": {},
   "outputs": [],
   "source": [
    "import numpy as np\n",
    "import matplotlib.pyplot as plt\n",
    "plt.style.use('./z_deeplearning.mplstyle')"
   ]
  },
  {
   "cell_type": "markdown",
   "id": "4f8182d0",
   "metadata": {},
   "source": [
    "<h1 style=\"color:#007fff\">Problem Description</h1>  \n",
    "\n",
    "In this example we will use a simple data set with only _two data points_ \n",
    "- a house with 1000 square feet(sqft) sold for \\\\$300,000 and \n",
    "- a house with 2000 square feet sold for \\\\$500,000.  \n",
    "\n",
    "These two points will constitute our *data or training set*. Here, the units of size are 1000 sqft and the units of price are 1000s of dollars.  \n",
    "\n",
    "| Size (1000 sqft)     | Price (1000s of dollars) |\n",
    "| -------------------| ------------------------ |\n",
    "| 1.0               | 300                      |\n",
    "| 2.0               | 500                      |\n",
    "\n",
    "Our job is to **fit a linear regression model** (a straight line) through these two points, so we can then predict price for other houses - say, a house with 1200 sqft.\n"
   ]
  },
  {
   "cell_type": "markdown",
   "id": "d2b4b4d1",
   "metadata": {},
   "source": [
    "<h4 style=\"color:#1bbc9f\"> Creating Trainig set </h4>  \n",
    "\n",
    "\n",
    "Run the following code cell to create your `x_train` and `y_train` variables.  \n",
    "The data is stored in one-dimensional NumPy arrays.  "
   ]
  },
  {
   "cell_type": "code",
   "execution_count": 2,
   "id": "6383570c",
   "metadata": {},
   "outputs": [
    {
     "name": "stdout",
     "output_type": "stream",
     "text": [
      "x_train = [1. 2.]\n",
      "y_train = [300. 500.]\n"
     ]
    }
   ],
   "source": [
    "# x_train is the input variable (size in 1000 square feet)\n",
    "# y_train is the target (price in 1000s of dollars)\n",
    "x_train = np.array([1.0, 2.0])\n",
    "y_train = np.array([300.0, 500.0])\n",
    "print(f\"x_train = {x_train}\")\n",
    "print(f\"y_train = {y_train}\")"
   ]
  },
  {
   "cell_type": "markdown",
   "id": "166cf7aa",
   "metadata": {},
   "source": [
    "<h4 style=\"color:#1abcdf\">Number of training examples `m`</h4>  \n",
    "\n",
    "* We'll use `m` to denote the number of training examples. \n",
    "* Numpy arrays have a `.shape` parameter. \n",
    "* `x_train.shape` returns a python tuple with an entry for each dimension. \n",
    "* `x_train.shape[0]` is the length of the array and number of examples as shown below."
   ]
  },
  {
   "cell_type": "code",
   "execution_count": 3,
   "id": "2c555a0f",
   "metadata": {},
   "outputs": [
    {
     "name": "stdout",
     "output_type": "stream",
     "text": [
      "x_train.shape: (2,)\n",
      "Number of training examples is: 2\n"
     ]
    }
   ],
   "source": [
    "# m is the number of training examples\n",
    "print(f\"x_train.shape: {x_train.shape}\")\n",
    "m = x_train.shape[0]\n",
    "print(f\"Number of training examples is: {m}\")"
   ]
  },
  {
   "cell_type": "code",
   "execution_count": 4,
   "id": "c6e2421a",
   "metadata": {},
   "outputs": [
    {
     "name": "stdout",
     "output_type": "stream",
     "text": [
      "Number of training examples is: 2\n"
     ]
    }
   ],
   "source": [
    "# Alternative: we can also use len() to get m\n",
    "# m is the number of training examples\n",
    "m = len(x_train)\n",
    "print(f\"Number of training examples is: {m}\")"
   ]
  },
  {
   "cell_type": "markdown",
   "id": "7476e144",
   "metadata": {},
   "source": [
    "\n",
    "<h4 style=\"color:#1bbc9f\"> Training example <span style=\"color:#e56b52\">x_i, y_i</span>  </h4>  \n",
    "\n",
    "We'll use ($x^{(i)}$, $y^{(i)}$) to denote the $i^{th}$ training example.  \n",
    "\n",
    "Since Python is zero indexed,  \n",
    "\n",
    "* ($x^{(0)}$, $y^{(0)}$) is (1.0, 300.0) and \n",
    "* ($x^{(1)}$, $y^{(1)}$) is (2.0, 500.0).  \n",
    "\n",
    "\n",
    "#### 🛠 How to access in NumPy:\n",
    "\n",
    "To access the $i^{\\text{th}}$ training example in code, use _**indexing**_:  \n",
    "For example the syntax to access location zero of `x_train` is `x_train[0]`\n",
    "\n",
    "* `x_train[0]` returns $x^{(0)}$\n",
    "* `y_train[0]` returns $y^{(0)}$\n",
    "\n",
    "\n",
    "* Following code get the $i^{th}$ training example.\n"
   ]
  },
  {
   "cell_type": "code",
   "execution_count": 4,
   "id": "4e421c54",
   "metadata": {},
   "outputs": [
    {
     "name": "stdout",
     "output_type": "stream",
     "text": [
      "(x^(0), y^(0)) = (1.0, 300.0)\n"
     ]
    }
   ],
   "source": [
    "i = 0 # Change this to 1 to see (x^1, y^1)\n",
    "\n",
    "x_i = x_train[i]\n",
    "y_i = y_train[i]\n",
    "print(f\"(x^({i}), y^({i})) = ({x_i}, {y_i})\")"
   ]
  },
  {
   "cell_type": "markdown",
   "id": "2bb962db",
   "metadata": {},
   "source": [
    "<h4 style=\"color:#1abcdf\"> Plotting data points <span style=\"color:#e56b52\"></span>  </h4>  \n",
    "\n",
    "\n",
    "We can plot these data points using `scatter()` from `matplotlib` library,\n",
    "- notice the arguments `marker` and `c`,  makes the points as red crosses (default is blue dots).\n",
    "\n",
    "We can also set the title and labels to display"
   ]
  },
  {
   "cell_type": "code",
   "execution_count": 5,
   "id": "83942949",
   "metadata": {},
   "outputs": [
    {
     "data": {
      "image/png": "[encoded data removed]",
      "text/plain": [
       "<Figure size 640x480 with 1 Axes>"
      ]
     },
     "metadata": {},
     "output_type": "display_data"
    }
   ],
   "source": [
    "# Plot the data points\n",
    "plt.scatter(x_train, y_train, marker='x', c='r')\n",
    "\n",
    "# title\n",
    "plt.title(\"Housing Prices\")\n",
    "\n",
    "# show labels\n",
    "plt.ylabel('Price (in 1000s of dollars)')   # Set the y-axis label\n",
    "plt.xlabel('Size (1000 sqft)')  # Set the x-axis label\n",
    "\n",
    "plt.show()"
   ]
  },
  {
   "cell_type": "markdown",
   "id": "fc83ab8d",
   "metadata": {},
   "source": [
    "<h3 style=\"color:#007fff\"> <strong>Model function</strong> </h3>  \n",
    "\n",
    "The model function for linear regression (which is a function that maps from `x` to `y`) is represented as \n",
    "\n",
    "$$ f_{w,b}(x^{(i)}) = wx^{(i)} + b \\tag{1}$$\n",
    "\n",
    "This formula represent straight lines - different values of $w$ and $b$ makes different straight lines. \n",
    "\n",
    "<br>\n",
    "\n",
    "For example following uses $w = 100$ and $b = 100$. "
   ]
  },
  {
   "cell_type": "code",
   "execution_count": 6,
   "id": "a529eb5a",
   "metadata": {},
   "outputs": [
    {
     "name": "stdout",
     "output_type": "stream",
     "text": [
      "w: 100\n",
      "b: 100\n"
     ]
    }
   ],
   "source": [
    "w = 100\n",
    "b = 100\n",
    "\n",
    "print(f\"w: {w}\")\n",
    "print(f\"b: {b}\")"
   ]
  },
  {
   "cell_type": "markdown",
   "id": "25f6614b",
   "metadata": {},
   "source": [
    "Now we try to calculate $f_{w,b}(x^{(i)})$ for our two data points.\n",
    "\n",
    "We can explicitly write this for each data point -  \n",
    "\n",
    "* for $x^{(0)}$, `f_wb = w * x[0] + b`\n",
    "\n",
    "* for $x^{(1)}$, `f_wb = w * x[1] + b`\n",
    "\n",
    "For a large number of data points, we cannot hardcode like this, instead we're going to use a for loop.  \n",
    "The loop is shown in the `compute_model_output` function below.  \n",
    "\n",
    "#### 🎈 **Note**:  \n",
    "* In argument description `(ndarray (m,))` means a Numpy n-dimensional array of shape (m,).  \n",
    "* `(scalar)` means just a numerical value, without any dimensions, just a magnitude.  \n",
    "* `np.zero(n)` will return a one-dimensional numpy array with $n$ entries   \n"
   ]
  },
  {
   "cell_type": "code",
   "execution_count": 7,
   "id": "9c709d3e",
   "metadata": {},
   "outputs": [],
   "source": [
    "def compute_model_output(x, w, b):\n",
    "    \"\"\"\n",
    "    Computes the output/prediction of a linear model\n",
    "        Args:\n",
    "            x (ndarray (m,)): Data, m examples \n",
    "            w,b (scalar)    : model parameters  \n",
    "\n",
    "        Returns\n",
    "            y (ndarray (m,)): target values\n",
    "    \"\"\"\n",
    "    \n",
    "    # get the shape of the feature (input data)\n",
    "    m = x.shape[0]\n",
    "\n",
    "    # initialize f_wb with m zeros\n",
    "    f_wb = np.zeros(m)\n",
    "    \n",
    "    # update f_wb\n",
    "    for i in range(m):\n",
    "        f_wb[i] = w * x[i] + b\n",
    "        \n",
    "    return f_wb"
   ]
  },
  {
   "cell_type": "markdown",
   "id": "69d1263e",
   "metadata": {},
   "source": [
    "Plot the output from `compute_model_output` and compare"
   ]
  },
  {
   "cell_type": "code",
   "execution_count": 8,
   "id": "a2451516",
   "metadata": {},
   "outputs": [
    {
     "data": {
      "image/png": "[encoded data removed]",
      "text/plain": [
       "<Figure size 640x480 with 1 Axes>"
      ]
     },
     "metadata": {},
     "output_type": "display_data"
    }
   ],
   "source": [
    "tmp_f_wb = compute_model_output(x_train, w, b,)\n",
    "\n",
    "# Plot the model prediction (the straight line)\n",
    "plt.plot(x_train, tmp_f_wb, c='b',label='Our Prediction')\n",
    "\n",
    "# Plot the data points\n",
    "plt.scatter(x_train, y_train, marker='x', c='r',label='Actual Values')\n",
    "\n",
    "# Set the title\n",
    "plt.title(\"Housing Prices\")\n",
    "\n",
    "# Set the x-axis, y-axis label\n",
    "plt.ylabel('Price (in $1000s)')\n",
    "plt.xlabel('Size (1000 sqft)')\n",
    "\n",
    "# show legends\n",
    "plt.legend()\n",
    "plt.show()"
   ]
  },
  {
   "cell_type": "markdown",
   "id": "c2915092",
   "metadata": {},
   "source": [
    "Notice, setting $w = 100$ and $b = 100$ does *not* give a line that fits the training data well.\n",
    "\n",
    "\n",
    "<h3 style=\"color:#e52b52\"> <strong>Challenge</strong> </h3>  \n",
    "\n",
    "* Try adjusting the values of $w$ and $b$. \n",
    "* What values do you think would give a better fit to the data?\n",
    "\n",
    "\n",
    "<h4 style=\"color:#ff6644\"> <strong>Tip</strong> </h4>  \n",
    "\n",
    "💡 Click on the triangle to the left of the **\"Hints\"** to reveal suggestions for choosing b and w.\n",
    "\n",
    "<br>\n",
    "<br>\n",
    "\n",
    "<details>\n",
    "<summary>\n",
    "    <font size='5', color='#1bbc9f'><b>Hints</b></font>\n",
    "</summary>\n",
    "    <p>\n",
    "    <ul>\n",
    "        <li>Try $w = 200$ and $b = 100$ </li>\n",
    "    </ul>\n",
    "    </p>"
   ]
  },
  {
   "cell_type": "code",
   "execution_count": 11,
   "id": "2550ab0c",
   "metadata": {},
   "outputs": [],
   "source": [
    "w = 200\n",
    "b = 100"
   ]
  },
  {
   "cell_type": "code",
   "execution_count": 12,
   "id": "169dbc2e",
   "metadata": {},
   "outputs": [
    {
     "data": {
      "image/png": "[encoded data removed]",
      "text/plain": [
       "<Figure size 640x480 with 1 Axes>"
      ]
     },
     "metadata": {},
     "output_type": "display_data"
    }
   ],
   "source": [
    "tmp_f_wb = compute_model_output(x_train, w, b,)\n",
    "\n",
    "# Plot the model prediction (the straight line)\n",
    "plt.plot(x_train, tmp_f_wb, c='b',label='Our Prediction')\n",
    "\n",
    "# Plot the data points\n",
    "plt.scatter(x_train, y_train, marker='x', c='r',label='Actual Values')\n",
    "\n",
    "# Set the title\n",
    "plt.title(\"Housing Prices\")\n",
    "\n",
    "# Set the x-axis, y-axis label\n",
    "plt.ylabel('Price (in $1000s)')\n",
    "plt.xlabel('Size (1000 sqft)')\n",
    "\n",
    "# show legends\n",
    "plt.legend()\n",
    "plt.show()"
   ]
  },
  {
   "cell_type": "markdown",
   "id": "85896175",
   "metadata": {},
   "source": [
    "We can see now that the line now fits our data!"
   ]
  },
  {
   "cell_type": "markdown",
   "id": "c2376b77",
   "metadata": {},
   "source": [
    "\n",
    "<h3 style=\"color:#8844dd\"> <strong>Prediction</strong> </h3>  \n",
    "\n",
    "Now that we build a model, let’s use it to make a prediction.  \n",
    "For a house with **1200 sqft**, since $x$ is measured in thousands of sqft, we set $x = 1.2$.\n"
   ]
  },
  {
   "cell_type": "code",
   "execution_count": null,
   "id": "187a7304",
   "metadata": {},
   "outputs": [],
   "source": [
    "w = 200                         \n",
    "b = 100    \n",
    "x_i = 1.2\n",
    "cost_1200sqft = w * x_i + b    \n",
    "\n",
    "print(f\"${cost_1200sqft:.0f} thousand dollars\")"
   ]
  },
  {
   "cell_type": "markdown",
   "id": "1cd2c56e",
   "metadata": {},
   "source": [
    "Waht we have learned:\n",
    " - Linear regression builds a model \n",
    " - the model establishes a relationship between **features** and **targets**\n",
    "     - in our example, the **feature** was `house size` and the **target** was `house price`\n",
    "     - the model has two parameters $w$ and $b$ whose values are 'fit' using *training data*.\n",
    "     - once a model's parameters have been determined, the model can be used to make predictions on new data."
   ]
  }
 ],
 "metadata": {
  "kernelspec": {
   "display_name": "Python 3",
   "language": "python",
   "name": "python3"
  },
  "language_info": {
   "codemirror_mode": {
    "name": "ipython",
    "version": 3
   },
   "file_extension": ".py",
   "mimetype": "text/x-python",
   "name": "python",
   "nbconvert_exporter": "python",
   "pygments_lexer": "ipython3",
   "version": "3.13.5"
  }
 },
 "nbformat": 4,
 "nbformat_minor": 5
}
