{
 "cells": [
  {
   "cell_type": "markdown",
   "id": "6e58b638",
   "metadata": {},
   "source": [
    "# GuideLab: Model Representation\n",
    "#### Objective  \n",
    "* Learn to implement the model $f_{w,b}$ for linear regression with _**one variable**_"
   ]
  },
  {
   "cell_type": "markdown",
   "id": "4a34e1ad",
   "metadata": {},
   "source": [
    "\n",
    "### Notation Summary\n",
    "\n",
    "Below is a summary of common notation used in linear regression and their Python equivalents (where applicable):\n",
    "\n",
    "<br>\n",
    "\n",
    "**General Notation**\n",
    "\n",
    "| Symbol | Description       |\n",
    "| ------ | ----------------- |\n",
    "| a      | Scalar (non-bold) |\n",
    "| **a**  | Vector (bold)     |\n",
    "\n",
    "<br>\n",
    "\n",
    "**Regression-Specific Notation**\n",
    "\n",
    "| Symbol             | Description                                                         | Python Equivalent |\n",
    "| ------------------ | ------------------------------------------------------------------- | ----------------- |\n",
    "| **x**              | Feature values of training examples (e.g., house size in 1000 sqft) | `x_train`         |\n",
    "| **y**              | Target values of training examples (e.g., house price in \\$1000s)   | `y_train`         |\n",
    "| $x^{(i)}, y^{(i)}$ | The $i^{th}$ training example (feature and target)                  | `x_i`, `y_i`      |\n",
    "| m                  | Number of training examples                                         | `m`               |\n",
    "| w                  | Model parameter: weight                                             | `w`               |\n",
    "| b                  | Model parameter: bias                                               | `b`               |\n",
    "| $f_{w,b}(x^{(i)})$ | Model prediction: $f_{w,b}(x^{(i)}) = wx^{(i)} + b$  <br>  i.e.The result of the model evaluation at $x^{(i)}$ parameterized by $w,b$              | `f_wb`            |\n",
    "\n",
    "---\n"
   ]
  },
  {
   "cell_type": "markdown",
   "id": "0eb3b967",
   "metadata": {},
   "source": [
    "## Tools we'll use\n",
    "- NumPy, a library for scientific computing\n",
    "- Matplotlib, a library for plotting data"
   ]
  },
  {
   "cell_type": "code",
   "execution_count": 3,
   "id": "cd848296",
   "metadata": {},
   "outputs": [],
   "source": [
    "import numpy as np\n",
    "import matplotlib.pyplot as plt\n",
    "plt.style.use('./z_deeplearning.mplstyle')"
   ]
  },
  {
   "cell_type": "markdown",
   "id": "4f8182d0",
   "metadata": {},
   "source": [
    "# Problem Description\n",
    "\n",
    "In this example we will use a simple data set with only _two data points_ \n",
    "- a house with 1000 square feet(sqft) sold for \\\\$300,000 and \n",
    "- a house with 2000 square feet sold for \\\\$500,000.  \n",
    "\n",
    "These two points will constitute our *data or training set*. Here, the units of size are 1000 sqft and the units of price are 1000s of dollars.  \n",
    "\n",
    "| Size (1000 sqft)     | Price (1000s of dollars) |\n",
    "| -------------------| ------------------------ |\n",
    "| 1.0               | 300                      |\n",
    "| 2.0               | 500                      |\n",
    "\n",
    "Our job is to **fit a linear regression model** (a straight line) through these two points, so we can then predict price for other houses - say, a house with 1200 sqft.\n"
   ]
  },
  {
   "cell_type": "code",
   "execution_count": null,
   "id": "2c555a0f",
   "metadata": {},
   "outputs": [],
   "source": [
    "\n",
    "\n",
    ": $f_{w,b}(x^{(i)}) = wx^{(i)}+b$"
   ]
  }
 ],
 "metadata": {
  "kernelspec": {
   "display_name": "Python 3",
   "language": "python",
   "name": "python3"
  },
  "language_info": {
   "codemirror_mode": {
    "name": "ipython",
    "version": 3
   },
   "file_extension": ".py",
   "mimetype": "text/x-python",
   "name": "python",
   "nbconvert_exporter": "python",
   "pygments_lexer": "ipython3",
   "version": "3.13.5"
  }
 },
 "nbformat": 4,
 "nbformat_minor": 5
}
