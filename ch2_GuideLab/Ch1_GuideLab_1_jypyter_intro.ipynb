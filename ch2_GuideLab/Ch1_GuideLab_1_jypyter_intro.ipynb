{
 "cells": [
  {
   "cell_type": "markdown",
   "metadata": {
    "pycharm": {
     "name": "#%% md\n"
    }
   },
   "source": [
    "# GuideLab:  Intro to Python and Jupyter Notebooks\n",
    "Welcome to the first GuideLab! \n",
    "GuideLabs help you by:\n",
    "- Explaining key concepts\n",
    "- Giving hands-on practice for what you’ve learned\n",
    "- Showing working examples you'll use in graded labs"
   ]
  },
  {
   "cell_type": "markdown",
   "metadata": {
    "pycharm": {
     "name": "#%% md\n"
    }
   },
   "source": [
    "## Goals\n",
    "Our goal is:\n",
    "- Get familiar with Jupyter Notebooks\n",
    "- Learn the difference between Markdown cells and code cells\n",
    "- Practice some basic Python\n"
   ]
  },
  {
   "cell_type": "markdown",
   "metadata": {
    "pycharm": {
     "name": "#%% md\n"
    }
   },
   "source": [
    "### Markdown cell\n",
    "Jupyter Notebooks have two main types of cells. This one is a Markdown cell, which is used for *text and explanations*. "
   ]
  },
  {
   "cell_type": "markdown",
   "metadata": {
    "pycharm": {
     "name": "#%% md\n"
    }
   },
   "source": [
    "### code cell\n",
    "following type of cell is the `code cell` where we write our code:"
   ]
  },
  {
   "cell_type": "code",
   "execution_count": 1,
   "metadata": {
    "pycharm": {
     "name": "#%%\n"
    }
   },
   "outputs": [
    {
     "name": "stdout",
     "output_type": "stream",
     "text": [
      "code cell\n"
     ]
    }
   ],
   "source": [
    "# 'Code' Cell\n",
    "print(\"code cell\")"
   ]
  },
  {
   "cell_type": "markdown",
   "metadata": {
    "pycharm": {
     "name": "#%% md\n"
    }
   },
   "source": [
    "### run python code\n",
    "- Press **Shift** + **Enter**, or\n",
    "- click the **'run'**, triangle button\n",
    "\n",
    "\n",
    " "
   ]
  },
  {
   "cell_type": "markdown",
   "metadata": {
    "pycharm": {
     "name": "#%% md\n"
    }
   },
   "source": [
    "### Print\n",
    "\n",
    "We'll use Python f-strings for print statements.  \n",
    "Try writing your own print statement in the next cell and run it using both methods!\n"
   ]
  },
  {
   "cell_type": "code",
   "execution_count": null,
   "metadata": {
    "pycharm": {
     "name": "#%%\n"
    }
   },
   "outputs": [
    {
     "name": "stdout",
     "output_type": "stream",
     "text": [
      "f strings allow us to embed variables in the strings! in it!!\n"
     ]
    }
   ],
   "source": [
    "# print statements\n",
    "variable = \"in the strings!\"\n",
    "print(f\"f strings allow us to embed variables {variable} in it!!\")"
   ]
  }
 ],
 "metadata": {
  "kernelspec": {
   "display_name": "Python 3",
   "language": "python",
   "name": "python3"
  },
  "language_info": {
   "codemirror_mode": {
    "name": "ipython",
    "version": 3
   },
   "file_extension": ".py",
   "mimetype": "text/x-python",
   "name": "python",
   "nbconvert_exporter": "python",
   "pygments_lexer": "ipython3",
   "version": "3.10.3"
  }
 },
 "nbformat": 4,
 "nbformat_minor": 5
}
